{
  "nbformat": 4,
  "nbformat_minor": 0,
  "metadata": {
    "accelerator": "GPU",
    "colab": {
      "name": "MatchingImages.ipynb",
      "provenance": []
    },
    "kernelspec": {
      "display_name": "Python 3",
      "name": "python3"
    },
    "language_info": {
      "name": "python"
    }
  },
  "cells": [
    {
      "cell_type": "code",
      "metadata": {
        "id": "Y-NmD1hMTV4H"
      },
      "source": [
        "!unzip \"/content/RESULT_Res2Net_Conv2DTransposeLayers1 (1).zip\" -d \"/content/Res2Net_Results\""
      ],
      "execution_count": null,
      "outputs": []
    },
    {
      "cell_type": "code",
      "metadata": {
        "id": "DAiq6XDXT89H"
      },
      "source": [
        "!unzip \"/content/DOUBLE_UNet_RESULT_VGGNet.zip\" -d \"/content/DoubleUnetResults\""
      ],
      "execution_count": null,
      "outputs": []
    },
    {
      "cell_type": "code",
      "metadata": {
        "colab": {
          "base_uri": "https://localhost:8080/"
        },
        "id": "nFrKlVAbUJ9M",
        "outputId": "955fa2aa-b3ec-4e83-8067-a0a7bf9bd577"
      },
      "source": [
        "import os\n",
        "import cv2\n",
        "import numpy as np\n",
        "from google.colab.patches import cv2_imshow\n",
        "import skimage.io as io\n",
        "import skimage.transform as trans\n",
        "import matplotlib.pyplot as plt\n",
        "\n",
        "matched_dict = {}\n",
        "\n",
        "\n",
        "\n",
        "l = []\n",
        "for imagepath1 in os.listdir(\"/content/DoubleUnetResults/DOUBLE_UNet_RESULT_VGGNet\"):\n",
        "  matched = [0]\n",
        "  path1 = os.path.join(\"/content/DoubleUnetResults/DOUBLE_UNet_RESULT_VGGNet\" , imagepath1)\n",
        "  \n",
        "  img1 = io.imread(path1 )[: , 268 : ]\n",
        "  img1 = img1[: , : , 0]\n",
        "  _ , img1 = cv2.threshold(img1, 120, 255, cv2.THRESH_BINARY)\n",
        "  #img1 = list(img1.flatten())\n",
        "\n",
        "  path_of_img1 = imagepath1\n",
        "\n",
        "  for imagepath2 in os.listdir(\"/content/Res2Net_Results\"):\n",
        "    path2 = os.path.join(\"/content/Res2Net_Results\" , imagepath2)\n",
        "    img2 = io.imread(path2 , as_gray= True)[: , 268: ]\n",
        "    _ , img2 = cv2.threshold(img2, 120, 255, cv2.THRESH_BINARY)\n",
        "    #img2 = list(img2.flatten())\n",
        "\n",
        "    x = img1 == img2\n",
        "    y = np.unique(x , return_counts = True)\n",
        "    \n",
        "\n",
        "    try:  \n",
        "      Number_of_Trues = y[1][1]\n",
        "    \n",
        "      if Number_of_Trues > np.max(matched): \n",
        "\n",
        "        path_of_img2 = imagepath2\n",
        "      matched.append(y[1][1])\n",
        "    except:\n",
        "      Number_of_Trues = y[1][0]\n",
        "\n",
        "      if Number_of_Trues > np.max(matched): \n",
        "\n",
        "        path_of_img2 = imagepath2\n",
        "      matched.append(y[1][0])\n",
        "\n",
        "      l.append(imagepath1)\n",
        "      l.append(imagepath2)\n",
        "      break\n",
        "      pass\n",
        "    \n",
        "\n",
        "  matched_dict[path_of_img1] = path_of_img2\n",
        "\n",
        "\n",
        "matched_dict\n",
        "  \n"
      ],
      "execution_count": 22,
      "outputs": [
        {
          "output_type": "execute_result",
          "data": {
            "text/plain": [
              "{'0.png': '15.png',\n",
              " '1.png': '68.png',\n",
              " '10.png': '15.png',\n",
              " '100.png': '128.png',\n",
              " '101.png': '143.png',\n",
              " '102.png': '15.png',\n",
              " '103.png': '153.png',\n",
              " '104.png': '29.png',\n",
              " '105.png': '15.png',\n",
              " '106.png': '37.png',\n",
              " '107.png': '180.png',\n",
              " '108.png': '166.png',\n",
              " '109.png': '178.png',\n",
              " '11.png': '14.png',\n",
              " '110.png': '145.png',\n",
              " '111.png': '15.png',\n",
              " '112.png': '15.png',\n",
              " '113.png': '15.png',\n",
              " '114.png': '156.png',\n",
              " '115.png': '31.png',\n",
              " '116.png': '15.png',\n",
              " '117.png': '87.png',\n",
              " '118.png': '109.png',\n",
              " '119.png': '74.png',\n",
              " '12.png': '74.png',\n",
              " '120.png': '171.png',\n",
              " '121.png': '17.png',\n",
              " '122.png': '174.png',\n",
              " '123.png': '15.png',\n",
              " '124.png': '139.png',\n",
              " '125.png': '17.png',\n",
              " '126.png': '53.png',\n",
              " '127.png': '32.png',\n",
              " '128.png': '15.png',\n",
              " '129.png': '15.png',\n",
              " '13.png': '166.png',\n",
              " '130.png': '17.png',\n",
              " '131.png': '93.png',\n",
              " '132.png': '15.png',\n",
              " '133.png': '15.png',\n",
              " '134.png': '116.png',\n",
              " '135.png': '4.png',\n",
              " '136.png': '153.png',\n",
              " '137.png': '104.png',\n",
              " '138.png': '69.png',\n",
              " '139.png': '139.png',\n",
              " '14.png': '15.png',\n",
              " '140.png': '82.png',\n",
              " '141.png': '87.png',\n",
              " '142.png': '78.png',\n",
              " '143.png': '15.png',\n",
              " '144.png': '91.png',\n",
              " '145.png': '15.png',\n",
              " '146.png': '15.png',\n",
              " '147.png': '15.png',\n",
              " '148.png': '116.png',\n",
              " '149.png': '15.png',\n",
              " '15.png': '156.png',\n",
              " '16.png': '15.png',\n",
              " '17.png': '15.png',\n",
              " '18.png': '37.png',\n",
              " '19.png': '15.png',\n",
              " '2.png': '193.png',\n",
              " '20.png': '194.png',\n",
              " '21.png': '172.png',\n",
              " '22.png': '15.png',\n",
              " '23.png': '14.png',\n",
              " '24.png': '69.png',\n",
              " '25.png': '1.png',\n",
              " '26.png': '88.png',\n",
              " '27.png': '15.png',\n",
              " '28.png': '26.png',\n",
              " '29.png': '15.png',\n",
              " '3.png': '132.png',\n",
              " '30.png': '15.png',\n",
              " '31.png': '138.png',\n",
              " '32.png': '109.png',\n",
              " '33.png': '4.png',\n",
              " '34.png': '87.png',\n",
              " '35.png': '15.png',\n",
              " '36.png': '72.png',\n",
              " '37.png': '58.png',\n",
              " '38.png': '15.png',\n",
              " '39.png': '29.png',\n",
              " '4.png': '18.png',\n",
              " '40.png': '99.png',\n",
              " '41.png': '17.png',\n",
              " '42.png': '91.png',\n",
              " '43.png': '15.png',\n",
              " '44.png': '15.png',\n",
              " '45.png': '15.png',\n",
              " '46.png': '15.png',\n",
              " '47.png': '91.png',\n",
              " '48.png': '180.png',\n",
              " '49.png': '15.png',\n",
              " '5.png': '151.png',\n",
              " '50.png': '53.png',\n",
              " '51.png': '15.png',\n",
              " '52.png': '15.png',\n",
              " '53.png': '139.png',\n",
              " '54.png': '69.png',\n",
              " '55.png': '147.png',\n",
              " '56.png': '98.png',\n",
              " '57.png': '62.png',\n",
              " '58.png': '15.png',\n",
              " '59.png': '108.png',\n",
              " '6.png': '153.png',\n",
              " '60.png': '15.png',\n",
              " '61.png': '53.png',\n",
              " '62.png': '109.png',\n",
              " '63.png': '15.png',\n",
              " '64.png': '164.png',\n",
              " '65.png': '140.png',\n",
              " '66.png': '15.png',\n",
              " '67.png': '165.png',\n",
              " '68.png': '151.png',\n",
              " '69.png': '70.png',\n",
              " '7.png': '15.png',\n",
              " '70.png': '156.png',\n",
              " '71.png': '15.png',\n",
              " '72.png': '15.png',\n",
              " '73.png': '84.png',\n",
              " '74.png': '74.png',\n",
              " '75.png': '82.png',\n",
              " '76.png': '36.png',\n",
              " '77.png': '196.png',\n",
              " '78.png': '53.png',\n",
              " '79.png': '26.png',\n",
              " '8.png': '172.png',\n",
              " '80.png': '113.png',\n",
              " '81.png': '70.png',\n",
              " '82.png': '74.png',\n",
              " '83.png': '74.png',\n",
              " '84.png': '148.png',\n",
              " '85.png': '56.png',\n",
              " '86.png': '15.png',\n",
              " '87.png': '60.png',\n",
              " '88.png': '108.png',\n",
              " '89.png': '15.png',\n",
              " '9.png': '87.png',\n",
              " '90.png': '166.png',\n",
              " '91.png': '180.png',\n",
              " '92.png': '15.png',\n",
              " '93.png': '179.png',\n",
              " '94.png': '50.png',\n",
              " '95.png': '154.png',\n",
              " '96.png': '41.png',\n",
              " '97.png': '70.png',\n",
              " '98.png': '87.png',\n",
              " '99.png': '37.png'}"
            ]
          },
          "metadata": {
            "tags": []
          },
          "execution_count": 22
        }
      ]
    },
    {
      "cell_type": "code",
      "metadata": {
        "colab": {
          "base_uri": "https://localhost:8080/"
        },
        "id": "_9fo9Z6YqtNd",
        "outputId": "4600f429-867b-4d8e-aa48-57fe2e0e456d"
      },
      "source": [
        ""
      ],
      "execution_count": 4,
      "outputs": [
        {
          "output_type": "execute_result",
          "data": {
            "text/plain": [
              "['2.png',\n",
              " '193.png',\n",
              " '19.png',\n",
              " '15.png',\n",
              " '113.png',\n",
              " '15.png',\n",
              " '105.png',\n",
              " '15.png',\n",
              " '63.png',\n",
              " '15.png',\n",
              " '88.png',\n",
              " '108.png',\n",
              " '149.png',\n",
              " '15.png',\n",
              " '66.png',\n",
              " '15.png',\n",
              " '129.png',\n",
              " '15.png',\n",
              " '16.png',\n",
              " '15.png',\n",
              " '29.png',\n",
              " '15.png',\n",
              " '60.png',\n",
              " '15.png',\n",
              " '45.png',\n",
              " '15.png',\n",
              " '147.png',\n",
              " '15.png',\n",
              " '65.png',\n",
              " '140.png',\n",
              " '18.png',\n",
              " '37.png']"
            ]
          },
          "metadata": {
            "tags": []
          },
          "execution_count": 4
        }
      ]
    },
    {
      "cell_type": "code",
      "metadata": {
        "colab": {
          "base_uri": "https://localhost:8080/",
          "height": 307
        },
        "id": "DAeth_mQXg1P",
        "outputId": "5797db8f-0a96-400d-ede1-6a8c0e6de8a0"
      },
      "source": [
        "#import cv2\n",
        "#import numpy as np\n",
        "#from google.colab.patches import cv2_imshow\n",
        "#img1 = io.imread(\"/content/DoubleUnetResults/DOUBLE_UNet_RESULT_VGGNet/2.png\" )[: , 268:]\n",
        "#img1 = img1[: , : , 0]\n",
        "\n",
        "#ret, thresh4 = cv2.threshold(img1, 120, 255, cv2.THRESH_BINARY)\n",
        "\n",
        "#print(np.unique(thresh4))\n",
        "#cv2_imshow(thresh4)\n",
        "#print(thresh4.shape)\n",
        "#thresh4 = list(thresh4.flatten())"
      ],
      "execution_count": 20,
      "outputs": [
        {
          "output_type": "stream",
          "text": [
            "[  0 255]\n"
          ],
          "name": "stdout"
        },
        {
          "output_type": "display_data",
          "data": {
            "image/png": "[encoded data removed]",
            "text/plain": [
              "<PIL.Image.Image image mode=L size=520x256 at 0x7F2A9ACE0FD0>"
            ]
          },
          "metadata": {
            "tags": []
          }
        },
        {
          "output_type": "stream",
          "text": [
            "(256, 520)\n"
          ],
          "name": "stdout"
        }
      ]
    },
    {
      "cell_type": "code",
      "metadata": {
        "id": "-VHQygzzdjIg"
      },
      "source": [
        ""
      ],
      "execution_count": 24,
      "outputs": []
    },
    {
      "cell_type": "code",
      "metadata": {
        "colab": {
          "base_uri": "https://localhost:8080/",
          "height": 307
        },
        "id": "XiU5DJTQfYBZ",
        "outputId": "00e03cee-2804-402c-e657-0e22c05eeb24"
      },
      "source": [
        "\n",
        "#img2 = io.imread(\"/content/Res2Net_Results/193.png\")[: , 268 : ]\n",
        "\n",
        "\n",
        "#ret, thresh5 = cv2.threshold(img2, 120, 255, cv2.THRESH_BINARY)\n",
        "\n",
        "#ret, thresh5 = cv2.threshold(img2, 120, 255, cv2.THRESH_BINARY)\n",
        "\n",
        "#print(np.unique(thresh5))\n",
        "#cv2_imshow(thresh5)\n",
        "#print(thresh5.shape)\n",
        "#thresh5 = list(thresh5.flatten())"
      ],
      "execution_count": 24,
      "outputs": [
        {
          "output_type": "stream",
          "text": [
            "[  0 255]\n"
          ],
          "name": "stdout"
        },
        {
          "output_type": "display_data",
          "data": {
            "image/png": "[encoded data removed]",
            "text/plain": [
              "<PIL.Image.Image image mode=L size=520x256 at 0x7F2A9EEA7D10>"
            ]
          },
          "metadata": {
            "tags": []
          }
        },
        {
          "output_type": "stream",
          "text": [
            "(256, 520)\n"
          ],
          "name": "stdout"
        }
      ]
    },
    {
      "cell_type": "code",
      "metadata": {
        "colab": {
          "base_uri": "https://localhost:8080/"
        },
        "id": "9IlTFFuRbosg",
        "outputId": "3d86e35e-a33f-4f02-803e-0482f07c2096"
      },
      "source": [
        "#x = thresh4 == thresh5\n",
        "#x"
      ],
      "execution_count": 7,
      "outputs": [
        {
          "output_type": "execute_result",
          "data": {
            "text/plain": [
              "array([[ True,  True,  True, ...,  True,  True,  True],\n",
              "       [ True,  True,  True, ...,  True,  True,  True],\n",
              "       [ True,  True,  True, ...,  True,  True,  True],\n",
              "       ...,\n",
              "       [ True,  True,  True, ...,  True,  True,  True],\n",
              "       [ True,  True,  True, ...,  True,  True,  True],\n",
              "       [ True,  True,  True, ...,  True,  True,  True]])"
            ]
          },
          "metadata": {
            "tags": []
          },
          "execution_count": 7
        }
      ]
    },
    {
      "cell_type": "code",
      "metadata": {
        "colab": {
          "base_uri": "https://localhost:8080/"
        },
        "id": "z57bZfbXhqXB",
        "outputId": "58216df8-826b-403c-b0b9-3297e4dda25d"
      },
      "source": [
        "#y = np.unique(x , return_counts = True)\n",
        "\n",
        "#y[1][0]"
      ],
      "execution_count": 13,
      "outputs": [
        {
          "output_type": "execute_result",
          "data": {
            "text/plain": [
              "64512"
            ]
          },
          "metadata": {
            "tags": []
          },
          "execution_count": 13
        }
      ]
    },
    {
      "cell_type": "code",
      "metadata": {
        "id": "JsHu25ugZuwP"
      },
      "source": [
        ""
      ],
      "execution_count": 24,
      "outputs": []
    },
    {
      "cell_type": "code",
      "metadata": {
        "id": "jrNQXhf-Xp_D"
      },
      "source": [
        ""
      ],
      "execution_count": 24,
      "outputs": []
    },
    {
      "cell_type": "code",
      "metadata": {
        "id": "5CDMxXGpV0Ip"
      },
      "source": [
        ""
      ],
      "execution_count": 24,
      "outputs": []
    },
    {
      "cell_type": "code",
      "metadata": {
        "id": "BDApFvagXErg"
      },
      "source": [
        ""
      ],
      "execution_count": 24,
      "outputs": []
    },
    {
      "cell_type": "code",
      "metadata": {
        "id": "EBEQa_rKWSMu"
      },
      "source": [
        ""
      ],
      "execution_count": null,
      "outputs": []
    }
  ]
}